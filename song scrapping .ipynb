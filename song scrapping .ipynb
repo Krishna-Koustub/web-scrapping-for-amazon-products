{
 "cells": [
  {
   "cell_type": "code",
   "execution_count": 2,
   "id": "5c937888",
   "metadata": {},
   "outputs": [],
   "source": [
    "import requests\n",
    "from bs4 import BeautifulSoup\n"
   ]
  },
  {
   "cell_type": "code",
   "execution_count": 6,
   "id": "d0215d64",
   "metadata": {},
   "outputs": [],
   "source": [
    "url = 'https://www.lyrics.com/artist/Dokken/4410'\n",
    "r = requests.get(url)\n",
    "soup = BeautifulSoup(r.text , 'html.parser')"
   ]
  },
  {
   "cell_type": "code",
   "execution_count": 4,
   "id": "f4d14897",
   "metadata": {},
   "outputs": [],
   "source": [
    "albums = soup.find_all('h3' , {'class': 'artist-album-label'})"
   ]
  },
  {
   "cell_type": "code",
   "execution_count": 5,
   "id": "ae8513da",
   "metadata": {},
   "outputs": [],
   "source": [
    "for i in albums[:5]:\n",
    "    print(i.text)"
   ]
  },
  {
   "cell_type": "code",
   "execution_count": 7,
   "id": "badd8e9d",
   "metadata": {},
   "outputs": [],
   "source": [
    "songs = soup.find_all ('td' , {'class':'tal qx'})"
   ]
  },
  {
   "cell_type": "code",
   "execution_count": 8,
   "id": "62fc003f",
   "metadata": {},
   "outputs": [
    {
     "name": "stdout",
     "output_type": "stream",
     "text": [
      "The Astrologer\n",
      "The Astrologer\n",
      "The Ploughboy's Dream\n",
      "Raindance\n",
      "The Ploughboy's Dream\n"
     ]
    }
   ],
   "source": [
    "for i in songs [::2][:5]:\n",
    "    print(i.text)"
   ]
  },
  {
   "cell_type": "code",
   "execution_count": 9,
   "id": "1d3f1b45",
   "metadata": {},
   "outputs": [
    {
     "data": {
      "text/plain": [
       "'/lyric/33653557/Gryphon/The+Astrologer'"
      ]
     },
     "execution_count": 9,
     "metadata": {},
     "output_type": "execute_result"
    }
   ],
   "source": [
    "songs[0].a.attrs['href']"
   ]
  },
  {
   "cell_type": "code",
   "execution_count": 10,
   "id": "bd7c47fd",
   "metadata": {},
   "outputs": [],
   "source": [
    "base = 'https://www.lyrics.com'"
   ]
  },
  {
   "cell_type": "code",
   "execution_count": 1,
   "id": "b1a3f3f9",
   "metadata": {},
   "outputs": [
    {
     "ename": "NameError",
     "evalue": "name 'base' is not defined",
     "output_type": "error",
     "traceback": [
      "\u001b[1;31m---------------------------------------------------------------------------\u001b[0m",
      "\u001b[1;31mNameError\u001b[0m                                 Traceback (most recent call last)",
      "\u001b[1;32m~\\AppData\\Local\\Temp/ipykernel_3440/1169282309.py\u001b[0m in \u001b[0;36m<module>\u001b[1;34m\u001b[0m\n\u001b[1;32m----> 1\u001b[1;33m \u001b[0mlyr\u001b[0m \u001b[1;33m=\u001b[0m \u001b[0mbase\u001b[0m\u001b[1;33m+\u001b[0m\u001b[0msongs\u001b[0m\u001b[1;33m[\u001b[0m\u001b[1;36m0\u001b[0m\u001b[1;33m]\u001b[0m\u001b[1;33m.\u001b[0m\u001b[0ma\u001b[0m\u001b[1;33m.\u001b[0m\u001b[0mattrs\u001b[0m\u001b[1;33m[\u001b[0m\u001b[1;34m'href'\u001b[0m\u001b[1;33m]\u001b[0m\u001b[1;33m\u001b[0m\u001b[1;33m\u001b[0m\u001b[0m\n\u001b[0m\u001b[0;32m      2\u001b[0m \u001b[1;32mimport\u001b[0m \u001b[0mpandas\u001b[0m \u001b[1;32mas\u001b[0m \u001b[0mpd\u001b[0m\u001b[1;33m\u001b[0m\u001b[1;33m\u001b[0m\u001b[0m\n",
      "\u001b[1;31mNameError\u001b[0m: name 'base' is not defined"
     ]
    }
   ],
   "source": [
    "lyr = base+songs[0].a.attrs['href']\n",
    "import pandas as pd"
   ]
  },
  {
   "cell_type": "code",
   "execution_count": 6,
   "id": "a6ce1dc7",
   "metadata": {},
   "outputs": [
    {
     "ename": "IndentationError",
     "evalue": "unindent does not match any outer indentation level (<tokenize>, line 27)",
     "output_type": "error",
     "traceback": [
      "\u001b[1;36m  File \u001b[1;32m\"<tokenize>\"\u001b[1;36m, line \u001b[1;32m27\u001b[0m\n\u001b[1;33m    else:\u001b[0m\n\u001b[1;37m    ^\u001b[0m\n\u001b[1;31mIndentationError\u001b[0m\u001b[1;31m:\u001b[0m unindent does not match any outer indentation level\n"
     ]
    }
   ],
   "source": [
    "def lookup():\n",
    "    artist = input (\"who are lookin for duder ? \")\n",
    "    if len(artist.split()) < 2 :\n",
    "        url = 'https://www.lyrics.com/artist/' +artist.split(' ')[0].lower()\n",
    "    else:\n",
    "        url = 'https://www.lyrics.com/artist/' +artist.split(' ').lower()\n",
    "        for i in range (1,len(artist.aplit())):\n",
    "            url = url + '%20' +artist.aplit(' ')[i].lower()\n",
    "            r= request.get(url)\n",
    "             soup = BeautifulSoup(r.text ,'html.parser')\n",
    "             alb = []\n",
    "             s = []\n",
    "             ti = []\n",
    "             albums = soup.find_all('h3' ,{'artist-album-label'})\n",
    "             for i in albums:\n",
    "                 alb.append(i.text)\n",
    "                 songs =  soup.find_all('td' , {'class': 'tall_gx'})\n",
    "                 for i in songs[::2]:\n",
    "                     s.append(i.text)\n",
    "                      for i in songs[1::2]:\n",
    "                          ti.append(i.text)\n",
    "                          base = 'http:// www.lyrics.com/'\n",
    "                          l = []\n",
    "                          for i in range (len(songs)):\n",
    "                              if songs[i].a is None:\n",
    "                                  pass\n",
    "                               else: \n",
    "\n",
    "\n",
    "                                \n",
    "                                    lyr = base+ songs[i].a.attrs['href']\n",
    "                                    url = lyr\n",
    "                                     r = requests.get(url)\n",
    "                                     soup = BeautifulSoup(r.text , 'html.parser')\n",
    "                                     l.append(soup.find('pre' , { 'id' : 'lyric-body-text'})).text)\n",
    "                                     df  = pd.DataFrame ({'songs' : s, 'time': ti, 'lyrics':l})\n",
    "                        return df \n"
   ]
  },
  {
   "cell_type": "code",
   "execution_count": 7,
   "id": "bbb63f54",
   "metadata": {},
   "outputs": [
    {
     "ename": "NameError",
     "evalue": "name 'lookup' is not defined",
     "output_type": "error",
     "traceback": [
      "\u001b[1;31m---------------------------------------------------------------------------\u001b[0m",
      "\u001b[1;31mNameError\u001b[0m                                 Traceback (most recent call last)",
      "\u001b[1;32m~\\AppData\\Local\\Temp/ipykernel_3440/257232743.py\u001b[0m in \u001b[0;36m<module>\u001b[1;34m\u001b[0m\n\u001b[1;32m----> 1\u001b[1;33m \u001b[0mlookup\u001b[0m\u001b[1;33m(\u001b[0m\u001b[0m_\u001b[0m\u001b[1;33m)\u001b[0m\u001b[1;33m\u001b[0m\u001b[1;33m\u001b[0m\u001b[0m\n\u001b[0m",
      "\u001b[1;31mNameError\u001b[0m: name 'lookup' is not defined"
     ]
    }
   ],
   "source": [
    "lookup(_)"
   ]
  }
 ],
 "metadata": {
  "kernelspec": {
   "display_name": "Python 3 (ipykernel)",
   "language": "python",
   "name": "python3"
  },
  "language_info": {
   "codemirror_mode": {
    "name": "ipython",
    "version": 3
   },
   "file_extension": ".py",
   "mimetype": "text/x-python",
   "name": "python",
   "nbconvert_exporter": "python",
   "pygments_lexer": "ipython3",
   "version": "3.9.4"
  }
 },
 "nbformat": 4,
 "nbformat_minor": 5
}
