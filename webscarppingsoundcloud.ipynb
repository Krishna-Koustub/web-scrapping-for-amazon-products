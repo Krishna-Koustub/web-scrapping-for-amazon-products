{
 "cells": [
  {
   "cell_type": "code",
   "execution_count": 1,
   "id": "ecf80480",
   "metadata": {},
   "outputs": [],
   "source": [
    "from selenium import webdriver\n",
    "import requests\n",
    "import bs4\n",
    "import os\n"
   ]
  },
  {
   "cell_type": "code",
   "execution_count": 2,
   "metadata": {},
   "outputs": [],
   "source": [
    "top_url = \"https://soundcloud.com/charts/top\"\n",
    "new_url = \"https://soundcloud.com/charts/new\"\n",
    "track_url = \"https://soundcloud.com/search/sounds?q=\"\n",
    "artist_url = \"https://soundcloud.com/search/people?q=\"\n",
    "mix_url_end = \"&filter.duration=epic\""
   ]
  },
  {
   "cell_type": "code",
   "execution_count": 4,
   "metadata": {},
   "outputs": [
    {
     "name": "stderr",
     "output_type": "stream",
     "text": [
      "C:\\Users\\krish\\AppData\\Local\\Temp/ipykernel_8524/1433447973.py:1: DeprecationWarning: executable_path has been deprecated, please pass in a Service object\n",
      "  browser = webdriver.Chrome(r'C:/Users/krish/Downloads/chromedriver_win32.zip')\n"
     ]
    },
    {
     "ename": "OSError",
     "evalue": "[WinError 193] %1 is not a valid Win32 application",
     "output_type": "error",
     "traceback": [
      "\u001b[1;31m---------------------------------------------------------------------------\u001b[0m",
      "\u001b[1;31mOSError\u001b[0m                                   Traceback (most recent call last)",
      "\u001b[1;32m~\\AppData\\Local\\Temp/ipykernel_8524/1433447973.py\u001b[0m in \u001b[0;36m<module>\u001b[1;34m\u001b[0m\n\u001b[1;32m----> 1\u001b[1;33m \u001b[0mbrowser\u001b[0m \u001b[1;33m=\u001b[0m \u001b[0mwebdriver\u001b[0m\u001b[1;33m.\u001b[0m\u001b[0mChrome\u001b[0m\u001b[1;33m(\u001b[0m\u001b[1;34mr'C:/Users/krish/Downloads/chromedriver_win32.zip'\u001b[0m\u001b[1;33m)\u001b[0m\u001b[1;33m\u001b[0m\u001b[1;33m\u001b[0m\u001b[0m\n\u001b[0m\u001b[0;32m      2\u001b[0m \u001b[0mbrowser\u001b[0m\u001b[1;33m.\u001b[0m\u001b[0mget\u001b[0m\u001b[1;33m(\u001b[0m\u001b[1;34m\"https://soundcloud.com\"\u001b[0m\u001b[1;33m)\u001b[0m\u001b[1;33m\u001b[0m\u001b[1;33m\u001b[0m\u001b[0m\n",
      "\u001b[1;32mc:\\users\\krish\\appdata\\local\\programs\\python\\python39\\lib\\site-packages\\selenium\\webdriver\\chrome\\webdriver.py\u001b[0m in \u001b[0;36m__init__\u001b[1;34m(self, executable_path, port, options, service_args, desired_capabilities, service_log_path, chrome_options, service, keep_alive)\u001b[0m\n\u001b[0;32m     68\u001b[0m             \u001b[0mservice\u001b[0m \u001b[1;33m=\u001b[0m \u001b[0mService\u001b[0m\u001b[1;33m(\u001b[0m\u001b[0mexecutable_path\u001b[0m\u001b[1;33m,\u001b[0m \u001b[0mport\u001b[0m\u001b[1;33m,\u001b[0m \u001b[0mservice_args\u001b[0m\u001b[1;33m,\u001b[0m \u001b[0mservice_log_path\u001b[0m\u001b[1;33m)\u001b[0m\u001b[1;33m\u001b[0m\u001b[1;33m\u001b[0m\u001b[0m\n\u001b[0;32m     69\u001b[0m \u001b[1;33m\u001b[0m\u001b[0m\n\u001b[1;32m---> 70\u001b[1;33m         super(WebDriver, self).__init__(DesiredCapabilities.CHROME['browserName'], \"goog\",\n\u001b[0m\u001b[0;32m     71\u001b[0m                                         \u001b[0mport\u001b[0m\u001b[1;33m,\u001b[0m \u001b[0moptions\u001b[0m\u001b[1;33m,\u001b[0m\u001b[1;33m\u001b[0m\u001b[1;33m\u001b[0m\u001b[0m\n\u001b[0;32m     72\u001b[0m                                         \u001b[0mservice_args\u001b[0m\u001b[1;33m,\u001b[0m \u001b[0mdesired_capabilities\u001b[0m\u001b[1;33m,\u001b[0m\u001b[1;33m\u001b[0m\u001b[1;33m\u001b[0m\u001b[0m\n",
      "\u001b[1;32mc:\\users\\krish\\appdata\\local\\programs\\python\\python39\\lib\\site-packages\\selenium\\webdriver\\chromium\\webdriver.py\u001b[0m in \u001b[0;36m__init__\u001b[1;34m(self, browser_name, vendor_prefix, port, options, service_args, desired_capabilities, service_log_path, service, keep_alive)\u001b[0m\n\u001b[0;32m     88\u001b[0m \u001b[1;33m\u001b[0m\u001b[0m\n\u001b[0;32m     89\u001b[0m         \u001b[0mself\u001b[0m\u001b[1;33m.\u001b[0m\u001b[0mservice\u001b[0m \u001b[1;33m=\u001b[0m \u001b[0mservice\u001b[0m\u001b[1;33m\u001b[0m\u001b[1;33m\u001b[0m\u001b[0m\n\u001b[1;32m---> 90\u001b[1;33m         \u001b[0mself\u001b[0m\u001b[1;33m.\u001b[0m\u001b[0mservice\u001b[0m\u001b[1;33m.\u001b[0m\u001b[0mstart\u001b[0m\u001b[1;33m(\u001b[0m\u001b[1;33m)\u001b[0m\u001b[1;33m\u001b[0m\u001b[1;33m\u001b[0m\u001b[0m\n\u001b[0m\u001b[0;32m     91\u001b[0m \u001b[1;33m\u001b[0m\u001b[0m\n\u001b[0;32m     92\u001b[0m         \u001b[1;32mtry\u001b[0m\u001b[1;33m:\u001b[0m\u001b[1;33m\u001b[0m\u001b[1;33m\u001b[0m\u001b[0m\n",
      "\u001b[1;32mc:\\users\\krish\\appdata\\local\\programs\\python\\python39\\lib\\site-packages\\selenium\\webdriver\\common\\service.py\u001b[0m in \u001b[0;36mstart\u001b[1;34m(self)\u001b[0m\n\u001b[0;32m     69\u001b[0m             \u001b[0mcmd\u001b[0m \u001b[1;33m=\u001b[0m \u001b[1;33m[\u001b[0m\u001b[0mself\u001b[0m\u001b[1;33m.\u001b[0m\u001b[0mpath\u001b[0m\u001b[1;33m]\u001b[0m\u001b[1;33m\u001b[0m\u001b[1;33m\u001b[0m\u001b[0m\n\u001b[0;32m     70\u001b[0m             \u001b[0mcmd\u001b[0m\u001b[1;33m.\u001b[0m\u001b[0mextend\u001b[0m\u001b[1;33m(\u001b[0m\u001b[0mself\u001b[0m\u001b[1;33m.\u001b[0m\u001b[0mcommand_line_args\u001b[0m\u001b[1;33m(\u001b[0m\u001b[1;33m)\u001b[0m\u001b[1;33m)\u001b[0m\u001b[1;33m\u001b[0m\u001b[1;33m\u001b[0m\u001b[0m\n\u001b[1;32m---> 71\u001b[1;33m             self.process = subprocess.Popen(cmd, env=self.env,\n\u001b[0m\u001b[0;32m     72\u001b[0m                                             \u001b[0mclose_fds\u001b[0m\u001b[1;33m=\u001b[0m\u001b[0msystem\u001b[0m\u001b[1;33m(\u001b[0m\u001b[1;33m)\u001b[0m \u001b[1;33m!=\u001b[0m \u001b[1;34m'Windows'\u001b[0m\u001b[1;33m,\u001b[0m\u001b[1;33m\u001b[0m\u001b[1;33m\u001b[0m\u001b[0m\n\u001b[0;32m     73\u001b[0m                                             \u001b[0mstdout\u001b[0m\u001b[1;33m=\u001b[0m\u001b[0mself\u001b[0m\u001b[1;33m.\u001b[0m\u001b[0mlog_file\u001b[0m\u001b[1;33m,\u001b[0m\u001b[1;33m\u001b[0m\u001b[1;33m\u001b[0m\u001b[0m\n",
      "\u001b[1;32mc:\\users\\krish\\appdata\\local\\programs\\python\\python39\\lib\\subprocess.py\u001b[0m in \u001b[0;36m__init__\u001b[1;34m(self, args, bufsize, executable, stdin, stdout, stderr, preexec_fn, close_fds, shell, cwd, env, universal_newlines, startupinfo, creationflags, restore_signals, start_new_session, pass_fds, user, group, extra_groups, encoding, errors, text, umask)\u001b[0m\n\u001b[0;32m    949\u001b[0m                             encoding=encoding, errors=errors)\n\u001b[0;32m    950\u001b[0m \u001b[1;33m\u001b[0m\u001b[0m\n\u001b[1;32m--> 951\u001b[1;33m             self._execute_child(args, executable, preexec_fn, close_fds,\n\u001b[0m\u001b[0;32m    952\u001b[0m                                 \u001b[0mpass_fds\u001b[0m\u001b[1;33m,\u001b[0m \u001b[0mcwd\u001b[0m\u001b[1;33m,\u001b[0m \u001b[0menv\u001b[0m\u001b[1;33m,\u001b[0m\u001b[1;33m\u001b[0m\u001b[1;33m\u001b[0m\u001b[0m\n\u001b[0;32m    953\u001b[0m                                 \u001b[0mstartupinfo\u001b[0m\u001b[1;33m,\u001b[0m \u001b[0mcreationflags\u001b[0m\u001b[1;33m,\u001b[0m \u001b[0mshell\u001b[0m\u001b[1;33m,\u001b[0m\u001b[1;33m\u001b[0m\u001b[1;33m\u001b[0m\u001b[0m\n",
      "\u001b[1;32mc:\\users\\krish\\appdata\\local\\programs\\python\\python39\\lib\\subprocess.py\u001b[0m in \u001b[0;36m_execute_child\u001b[1;34m(self, args, executable, preexec_fn, close_fds, pass_fds, cwd, env, startupinfo, creationflags, shell, p2cread, p2cwrite, c2pread, c2pwrite, errread, errwrite, unused_restore_signals, unused_gid, unused_gids, unused_uid, unused_umask, unused_start_new_session)\u001b[0m\n\u001b[0;32m   1418\u001b[0m             \u001b[1;31m# Start the process\u001b[0m\u001b[1;33m\u001b[0m\u001b[1;33m\u001b[0m\u001b[1;33m\u001b[0m\u001b[0m\n\u001b[0;32m   1419\u001b[0m             \u001b[1;32mtry\u001b[0m\u001b[1;33m:\u001b[0m\u001b[1;33m\u001b[0m\u001b[1;33m\u001b[0m\u001b[0m\n\u001b[1;32m-> 1420\u001b[1;33m                 hp, ht, pid, tid = _winapi.CreateProcess(executable, args,\n\u001b[0m\u001b[0;32m   1421\u001b[0m                                          \u001b[1;31m# no special security\u001b[0m\u001b[1;33m\u001b[0m\u001b[1;33m\u001b[0m\u001b[1;33m\u001b[0m\u001b[0m\n\u001b[0;32m   1422\u001b[0m                                          \u001b[1;32mNone\u001b[0m\u001b[1;33m,\u001b[0m \u001b[1;32mNone\u001b[0m\u001b[1;33m,\u001b[0m\u001b[1;33m\u001b[0m\u001b[1;33m\u001b[0m\u001b[0m\n",
      "\u001b[1;31mOSError\u001b[0m: [WinError 193] %1 is not a valid Win32 application"
     ]
    }
   ],
   "source": [
    "browser = webdriver.Chrome(r'C:/Users/krish/Downloads/chromedriver_win32.zip')\n",
    "browser.get(\"https://soundcloud.com\")\n"
   ]
  },
  {
   "cell_type": "code",
   "execution_count": 4,
   "metadata": {},
   "outputs": [
    {
     "name": "stdout",
     "output_type": "stream",
     "text": [
      "\n",
      ">>> Welcome to the Python Soundcloud Scraper\n",
      ">>> Explore the Top / New & Hot Charts for all Genres\n",
      ">>> Search Soundcloud for Tracks, Artist, and Mixes\n",
      "\n"
     ]
    }
   ],
   "source": [
    "print()\n",
    "print(\">>> Welcome to the Python Soundcloud Scraper\")\n",
    "print(\">>> Explore the Top / New & Hot Charts for all Genres\")\n",
    "print(\">>> Search Soundcloud for Tracks, Artist, and Mixes\")\n",
    "print()"
   ]
  },
  {
   "cell_type": "code",
   "execution_count": 3,
   "metadata": {},
   "outputs": [
    {
     "name": "stdout",
     "output_type": "stream",
     "text": [
      ">>> Menu\n",
      ">>> 1 - Search for a track\n",
      ">>> 2 - Search for an artist\n",
      ">>> 3 - Search for a mix\n",
      ">>> 4 - Top charts\n",
      ">>> 5 - New & hot charts\n",
      ">>> 0 - Exit\n",
      "\n",
      ">>> Your choice: 4\n",
      "\n",
      ">>> Genres Available:\n",
      "\n",
      "0: All music genres\n",
      "1: All audio genres\n",
      "2: Alternative Rock\n",
      "3: Ambient\n",
      "4: Classical\n",
      "5: Country\n",
      "6: Dance & EDM\n",
      "7: Dancehall\n",
      "8: Deep House\n",
      "9: Disco\n",
      "10: Drum & Bass\n",
      "11: Dubstep\n",
      "12: Electronic\n",
      "13: Folk & Singer-Songwriter\n",
      "14: Hip-hop & Rap\n",
      "15: House\n",
      "16: Indie\n",
      "17: Jazz & Blues\n",
      "18: Latin\n",
      "19: Metal\n",
      "20: Piano\n",
      "21: Pop\n",
      "22: R&B & Soul\n",
      "23: Reggae\n",
      "24: Reggaeton\n",
      "25: Rock\n",
      "26: Soundtrack\n",
      "27: Techno\n",
      "28: Trance\n",
      "29: Trap\n",
      "30: Triphop\n",
      "31: World\n",
      "32: Audiobooks\n",
      "33: Business\n",
      "34: Comedy\n",
      "35: Entertainment\n",
      "36: Learning\n",
      "37: News & Politics\n",
      "38: Religion & Spirituality\n",
      "39: Science\n",
      "40: Sports\n",
      "41: Storytelling\n",
      "42: Technology\n",
      "\n",
      ">>> Your choice (x to re-select chart type): Disco\n",
      "\n"
     ]
    },
    {
     "ename": "ValueError",
     "evalue": "invalid literal for int() with base 10: 'Disco'",
     "output_type": "error",
     "traceback": [
      "\u001b[1;31m---------------------------------------------------------------------------\u001b[0m",
      "\u001b[1;31mValueError\u001b[0m                                Traceback (most recent call last)",
      "\u001b[1;32m~\\AppData\\Local\\Temp/ipykernel_8524/2730262849.py\u001b[0m in \u001b[0;36m<module>\u001b[1;34m\u001b[0m\n\u001b[0;32m     67\u001b[0m \u001b[1;33m\u001b[0m\u001b[0m\n\u001b[0;32m     68\u001b[0m         \u001b[1;32mif\u001b[0m \u001b[0mchoice\u001b[0m \u001b[1;33m==\u001b[0m \u001b[1;34m'x'\u001b[0m\u001b[1;33m:\u001b[0m \u001b[1;32mbreak\u001b[0m\u001b[1;33m\u001b[0m\u001b[1;33m\u001b[0m\u001b[0m\n\u001b[1;32m---> 69\u001b[1;33m         \u001b[1;32melse\u001b[0m\u001b[1;33m:\u001b[0m \u001b[0mchoice\u001b[0m \u001b[1;33m=\u001b[0m \u001b[0mint\u001b[0m\u001b[1;33m(\u001b[0m\u001b[0mchoice\u001b[0m\u001b[1;33m)\u001b[0m\u001b[1;33m\u001b[0m\u001b[1;33m\u001b[0m\u001b[0m\n\u001b[0m\u001b[0;32m     70\u001b[0m \u001b[1;33m\u001b[0m\u001b[0m\n\u001b[0;32m     71\u001b[0m         \u001b[1;31m# print(genre_links[choice])\u001b[0m\u001b[1;33m\u001b[0m\u001b[1;33m\u001b[0m\u001b[1;33m\u001b[0m\u001b[0m\n",
      "\u001b[1;31mValueError\u001b[0m: invalid literal for int() with base 10: 'Disco'"
     ]
    }
   ],
   "source": [
    "while True:\n",
    "    print(\">>> Menu\")\n",
    "    print(\">>> 1 - Search for a track\")\n",
    "    print(\">>> 2 - Search for an artist\")\n",
    "    print(\">>> 3 - Search for a mix\")\n",
    "    print(\">>> 4 - Top charts\")\n",
    "    print(\">>> 5 - New & hot charts\")\n",
    "    print(\">>> 0 - Exit\")\n",
    "    print()\n",
    "    choice = int(input(\">>> Your choice: \"))\n",
    "    if choice == 0:\n",
    "        browser.quit()\n",
    "        break\n",
    "    print()\n",
    "\n",
    "    # search for a track\n",
    "    if choice == 1:\n",
    "        name = input(\"Name of the track: \")\n",
    "        print()\n",
    "        \"%20\".join(name.split(\" \"))\n",
    "        browser.get(track_url + name)\n",
    "        continue\n",
    "\n",
    "    # search for an artist\n",
    "    if choice == 2:\n",
    "        name = input(\"Name of the artist: \")\n",
    "        print()\n",
    "        \"%20\".join(name.split(\" \"))\n",
    "        browser.get(artist_url + name)\n",
    "        continue\n",
    "\n",
    "    if choice == 3:\n",
    "        name = input(\"Name of the mix: \")\n",
    "        print()\n",
    "        \"%20\".join(name.split(\" \"))\n",
    "        browser.get(track_url + name + mix_url_end)\n",
    "        continue\n",
    "\n",
    "    # genre menu\n",
    "    while True:\n",
    "        print(\">>> Genres Available:\")\n",
    "        print()\n",
    "\n",
    "        # genre menu\n",
    "        url = ''\n",
    "        if choice == 4: url = top_url\n",
    "        else: url = new_url\n",
    "\n",
    "        # parse the html with beautiful soup\n",
    "        request = requests.get(url)\n",
    "        soup = bs4.BeautifulSoup(request.text, \"lxml\")\n",
    "        # print request.text\n",
    "\n",
    "        genres = soup.select(\"a[href*=genre]\")[2:]\n",
    "        # print each genre\n",
    "\n",
    "        genre_links = []\n",
    "\n",
    "        # print out the available genres\n",
    "        for index, genre in enumerate(genres):\n",
    "            print(str(index) + \": \" + genre.text)\n",
    "            genre_links.append(genre.get(\"href\"))\n",
    "\n",
    "        print()\n",
    "        choice = input(\">>> Your choice (x to re-select chart type): \")\n",
    "        print()\n",
    "\n",
    "        if choice == 'x': break\n",
    "        else: choice = int(choice)\n",
    "\n",
    "        # print(genre_links[choice])\n",
    "\n",
    "        url = \"http://soundcloud.com\" + genre_links[choice]\n",
    "        request = requests.get(url)\n",
    "        soup = bs4.BeautifulSoup(request.text, \"lxml\")\n",
    "\n",
    "        tracks = soup.select(\"h2\")[3:]\n",
    "        track_links = []\n",
    "        track_names = []\n",
    "        # print(tracks)\n",
    "\n",
    "        for index, track in enumerate(tracks):\n",
    "            track_links.append(track.a.get(\"href\"))\n",
    "            track_names.append(track.text)\n",
    "            print(str(index+1) + \": \" + track.text)\n",
    "            print()\n",
    "\n",
    "        # song selection loop\n",
    "        while True:\n",
    "            choice = input(\">>> Your choice (x to re-select genre): \")\n",
    "            print()\n",
    "\n",
    "            if choice == 'x': break\n",
    "            else: choice = int(choice)-1\n",
    "\n",
    "            print(\"Now playing: \" + track_names[choice])\n",
    "            print()\n",
    "\n",
    "            browser.get(\"http://soundcloud.com\" + track_links[choice])\n"
   ]
  },
  {
   "cell_type": "code",
   "execution_count": null,
   "metadata": {},
   "outputs": [],
   "source": []
  }
 ],
 "metadata": {
  "kernelspec": {
   "display_name": "Python 3 (ipykernel)",
   "language": "python",
   "name": "python3"
  },
  "language_info": {
   "codemirror_mode": {
    "name": "ipython",
    "version": 3
   },
   "file_extension": ".py",
   "mimetype": "text/x-python",
   "name": "python",
   "nbconvert_exporter": "python",
   "pygments_lexer": "ipython3",
   "version": "3.9.4"
  }
 },
 "nbformat": 4,
 "nbformat_minor": 2
}
